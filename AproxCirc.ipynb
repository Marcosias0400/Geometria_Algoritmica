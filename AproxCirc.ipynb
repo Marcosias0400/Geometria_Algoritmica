{
  "nbformat": 4,
  "nbformat_minor": 0,
  "metadata": {
    "colab": {
      "provenance": [],
      "authorship_tag": "ABX9TyNybtuXXu13gTliESgKPgha",
      "include_colab_link": true
    },
    "kernelspec": {
      "name": "python3",
      "display_name": "Python 3"
    },
    "language_info": {
      "name": "python"
    }
  },
  "cells": [
    {
      "cell_type": "markdown",
      "metadata": {
        "id": "view-in-github",
        "colab_type": "text"
      },
      "source": [
        "<a href=\"https://colab.research.google.com/github/Marcosias0400/Geometria_Algoritmica/blob/main/AproxCirc.ipynb\" target=\"_parent\"><img src=\"https://colab.research.google.com/assets/colab-badge.svg\" alt=\"Open In Colab\"/></a>"
      ]
    },
    {
      "cell_type": "code",
      "source": [
        "pip install pulp\n"
      ],
      "metadata": {
        "colab": {
          "base_uri": "https://localhost:8080/"
        },
        "id": "lNQ-7yDBS8-b",
        "outputId": "c265e4d1-dc1b-4121-a1d7-5792f0411bbd"
      },
      "execution_count": 2,
      "outputs": [
        {
          "output_type": "stream",
          "name": "stdout",
          "text": [
            "Collecting pulp\n",
            "  Downloading PuLP-2.8.0-py3-none-any.whl (17.7 MB)\n",
            "\u001b[2K     \u001b[90m━━━━━━━━━━━━━━━━━━━━━━━━━━━━━━━━━━━━━━━━\u001b[0m \u001b[32m17.7/17.7 MB\u001b[0m \u001b[31m40.5 MB/s\u001b[0m eta \u001b[36m0:00:00\u001b[0m\n",
            "\u001b[?25hInstalling collected packages: pulp\n",
            "Successfully installed pulp-2.8.0\n"
          ]
        }
      ]
    },
    {
      "cell_type": "code",
      "source": [
        "import numpy as np\n",
        "from pulp import *"
      ],
      "metadata": {
        "id": "tB6F8fCtS7Fr"
      },
      "execution_count": 4,
      "outputs": []
    },
    {
      "cell_type": "code",
      "execution_count": 6,
      "metadata": {
        "colab": {
          "base_uri": "https://localhost:8080/",
          "height": 245
        },
        "id": "8nkbwTbKSzlE",
        "outputId": "55b7eb8e-9793-4142-fe3f-94dbdabf42fe"
      },
      "outputs": [
        {
          "output_type": "stream",
          "name": "stderr",
          "text": [
            "/usr/local/lib/python3.10/dist-packages/pulp/pulp.py:1316: UserWarning: Spaces are not permitted in the name. Converted to '_'\n",
            "  warnings.warn(\"Spaces are not permitted in the name. Converted to '_'\")\n"
          ]
        },
        {
          "output_type": "error",
          "ename": "TypeError",
          "evalue": "'<' not supported between instances of 'method' and 'method'",
          "traceback": [
            "\u001b[0;31m---------------------------------------------------------------------------\u001b[0m",
            "\u001b[0;31mTypeError\u001b[0m                                 Traceback (most recent call last)",
            "\u001b[0;32m<ipython-input-6-1b58a6de67be>\u001b[0m in \u001b[0;36m<cell line: 20>\u001b[0;34m()\u001b[0m\n\u001b[1;32m     18\u001b[0m \u001b[0mCradios\u001b[0m\u001b[0;34m=\u001b[0m\u001b[0;34m[\u001b[0m\u001b[0mdisco2\u001b[0m\u001b[0;34m(\u001b[0m\u001b[0mt\u001b[0m\u001b[0;34m)\u001b[0m \u001b[0;32mfor\u001b[0m \u001b[0mt\u001b[0m \u001b[0;32min\u001b[0m \u001b[0mintervalo\u001b[0m\u001b[0;34m]\u001b[0m\u001b[0;34m\u001b[0m\u001b[0;34m\u001b[0m\u001b[0m\n\u001b[1;32m     19\u001b[0m \u001b[0mr\u001b[0m\u001b[0;34m=\u001b[0m\u001b[0;32mlambda\u001b[0m \u001b[0mx\u001b[0m\u001b[0;34m:\u001b[0m \u001b[0mx\u001b[0m\u001b[0;34m[\u001b[0m\u001b[0;36m0\u001b[0m\u001b[0;34m]\u001b[0m\u001b[0;34m\u001b[0m\u001b[0;34m\u001b[0m\u001b[0m\n\u001b[0;32m---> 20\u001b[0;31m \u001b[0mr_op\u001b[0m\u001b[0;34m,\u001b[0m \u001b[0ma_op\u001b[0m\u001b[0;34m,\u001b[0m \u001b[0mb_op\u001b[0m \u001b[0;34m=\u001b[0m \u001b[0mmin\u001b[0m\u001b[0;34m(\u001b[0m\u001b[0mCradios\u001b[0m\u001b[0;34m,\u001b[0m  \u001b[0mkey\u001b[0m \u001b[0;34m=\u001b[0m \u001b[0mr\u001b[0m\u001b[0;34m)\u001b[0m\u001b[0;34m\u001b[0m\u001b[0;34m\u001b[0m\u001b[0m\n\u001b[0m\u001b[1;32m     21\u001b[0m \u001b[0mprint\u001b[0m\u001b[0;34m(\u001b[0m\u001b[0;34m\"Solucion Optima\"\u001b[0m\u001b[0;34m,\u001b[0m\u001b[0mr_op\u001b[0m\u001b[0;34m,\u001b[0m \u001b[0ma_op\u001b[0m\u001b[0;34m,\u001b[0m \u001b[0mb_op\u001b[0m\u001b[0;34m)\u001b[0m\u001b[0;34m\u001b[0m\u001b[0;34m\u001b[0m\u001b[0m\n\u001b[1;32m     22\u001b[0m \u001b[0mprint\u001b[0m\u001b[0;34m(\u001b[0m\u001b[0;34m\"Radio de circunferencia: \"\u001b[0m\u001b[0;34m+\u001b[0m\u001b[0mstr\u001b[0m\u001b[0;34m(\u001b[0m\u001b[0mr_op\u001b[0m\u001b[0;34m*\u001b[0m\u001b[0mnp\u001b[0m\u001b[0;34m.\u001b[0m\u001b[0msqrt\u001b[0m\u001b[0;34m(\u001b[0m\u001b[0;36m2\u001b[0m\u001b[0;34m)\u001b[0m\u001b[0;34m)\u001b[0m\u001b[0;34m)\u001b[0m\u001b[0;34m\u001b[0m\u001b[0;34m\u001b[0m\u001b[0m\n",
            "\u001b[0;31mTypeError\u001b[0m: '<' not supported between instances of 'method' and 'method'"
          ]
        }
      ],
      "source": [
        "intervalo=np.linspace(0, np.pi/2,100)\n",
        "def disco2(t):\n",
        "  puntos=[[1,2],[10,4],[-3,6],[5,-8]]\n",
        "  Pdisc2=LpProblem(\"Disco 1\", LpMinimize)\n",
        "  # Variables\n",
        "  v=['a','b','r']\n",
        "  cvar=LpVariable.dict(\"Variables\",v)\n",
        "  # Fucion Onjetivo\n",
        "  Pdisc2+=cvar['r']\n",
        "  # REstricciones\n",
        "  for x,y in puntos:\n",
        "    Pdisc2+=(x-cvar['a'])*np.cos(t)+(y-cvar['b'])*np.sin(t)<=cvar['r']\n",
        "    Pdisc2+=-(x-cvar['a'])*np.cos(t)+(y-cvar['b'])*np.sin(t)<=cvar['r']\n",
        "    Pdisc2+=(x-cvar['a'])*np.cos(t)-(y-cvar['b'])*np.sin(t)<=cvar['r']\n",
        "    Pdisc2+=-(x-cvar['a'])*np.cos(t)-(y-cvar['b'])*np.sin(t)<=cvar['r']\n",
        "  Pdisc2.solve()\n",
        "  return [cvar['r'].value,cvar['a'].value,cvar['b'].value,]\n",
        "Cradios=[disco2(t) for t in intervalo]\n",
        "r=lambda x: x[0]\n",
        "r_op, a_op, b_op = min(Cradios,  key = r)\n",
        "print(\"Solucion Optima\",r_op, a_op, b_op)\n",
        "print(\"Radio de circunferencia: \"+str(r_op*np.sqrt(2)))"
      ]
    }
  ]
}